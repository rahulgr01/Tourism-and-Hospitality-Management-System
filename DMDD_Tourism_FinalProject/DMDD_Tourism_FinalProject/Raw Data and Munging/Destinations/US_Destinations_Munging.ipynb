{
 "cells": [
  {
   "cell_type": "code",
   "execution_count": null,
   "id": "9103baae",
   "metadata": {},
   "outputs": [],
   "source": [
    "# importing the required packages\n",
    "import pandas as pd\n",
    "import numpy as np\n",
    "import seaborn as sns\n",
    "import matplotlib.pyplot as plt\n",
    "from scipy import stats"
   ]
  },
  {
   "cell_type": "code",
   "execution_count": 12,
   "id": "491da4af",
   "metadata": {},
   "outputs": [
    {
     "data": {
      "text/html": [
       "<div>\n",
       "<style scoped>\n",
       "    .dataframe tbody tr th:only-of-type {\n",
       "        vertical-align: middle;\n",
       "    }\n",
       "\n",
       "    .dataframe tbody tr th {\n",
       "        vertical-align: top;\n",
       "    }\n",
       "\n",
       "    .dataframe thead th {\n",
       "        text-align: right;\n",
       "    }\n",
       "</style>\n",
       "<table border=\"1\" class=\"dataframe\">\n",
       "  <thead>\n",
       "    <tr style=\"text-align: right;\">\n",
       "      <th></th>\n",
       "      <th>destination</th>\n",
       "      <th>rating</th>\n",
       "      <th>rank</th>\n",
       "      <th>description</th>\n",
       "      <th>tourist_attractions_count</th>\n",
       "      <th>best_time_to_go</th>\n",
       "    </tr>\n",
       "  </thead>\n",
       "  <tbody>\n",
       "    <tr>\n",
       "      <th>0</th>\n",
       "      <td>1. New York City</td>\n",
       "      <td>4.8/5</td>\n",
       "      <td>1 out of 100  Places to visit in United States...</td>\n",
       "      <td>An iconic global centre that has inspired the ...</td>\n",
       "      <td>275  Tourist attractions</td>\n",
       "      <td>Throughout the year</td>\n",
       "    </tr>\n",
       "    <tr>\n",
       "      <th>1</th>\n",
       "      <td>2. Las Vegas</td>\n",
       "      <td>4.0/5</td>\n",
       "      <td>2 out of 100  Places to visit in United States...</td>\n",
       "      <td>Las Vegas - a place that brings neon signboard...</td>\n",
       "      <td>117  Tourist attractions</td>\n",
       "      <td>September to November (Autumn)</td>\n",
       "    </tr>\n",
       "  </tbody>\n",
       "</table>\n",
       "</div>"
      ],
      "text/plain": [
       "        destination rating                                               rank  \\\n",
       "0  1. New York City  4.8/5  1 out of 100  Places to visit in United States...   \n",
       "1      2. Las Vegas  4.0/5  2 out of 100  Places to visit in United States...   \n",
       "\n",
       "                                         description  \\\n",
       "0  An iconic global centre that has inspired the ...   \n",
       "1  Las Vegas - a place that brings neon signboard...   \n",
       "\n",
       "  tourist_attractions_count                 best_time_to_go  \n",
       "0  275  Tourist attractions             Throughout the year  \n",
       "1  117  Tourist attractions  September to November (Autumn)  "
      ]
     },
     "execution_count": 12,
     "metadata": {},
     "output_type": "execute_result"
    }
   ],
   "source": [
    "# reading the CSV raw data thorugh pandas\n",
    "df_dest = pd.read_csv(r'C:\\Users\\naman\\Downloads\\DMDDA3\\DMDDA3\\Top Destinations\\Input_US_Destinations.csv')\n",
    "df_dest.head(2)"
   ]
  },
  {
   "cell_type": "code",
   "execution_count": 14,
   "id": "3c550a48",
   "metadata": {},
   "outputs": [],
   "source": [
    "# data cleaning for tourist attractions\n",
    "df_dest['destination'] = df_dest.apply(lambda row: row['destination'].split('.')[1],axis=1)\n",
    "df_dest['rating'] = df_dest.apply(lambda row: row['rating'].split('/')[0],axis=1)\n",
    "df_dest['rank'] = df_dest.apply(lambda row: row['rank'].split(' ')[0],axis=1)\n",
    "df_dest['tourist_attractions_count'] = df_dest.apply(lambda row: row['tourist_attractions_count'].split(' ')[0],axis=1)\n",
    "df_dest['rating'] = df_dest['rating'].replace('Not known', 0)\n",
    "df_dest['best_time_to_go'] = df_dest['best_time_to_go'].replace('Not known','Best time not available')"
   ]
  },
  {
   "cell_type": "code",
   "execution_count": 16,
   "id": "27dc854b",
   "metadata": {},
   "outputs": [
    {
     "data": {
      "text/plain": [
       "destination                  object\n",
       "rating                       object\n",
       "rank                         object\n",
       "description                  object\n",
       "tourist_attractions_count    object\n",
       "best_time_to_go              object\n",
       "dtype: object"
      ]
     },
     "execution_count": 16,
     "metadata": {},
     "output_type": "execute_result"
    }
   ],
   "source": [
    "# getting datatypes for each column\n",
    "df_dest.dtypes"
   ]
  },
  {
   "cell_type": "code",
   "execution_count": 17,
   "id": "94bc8c36",
   "metadata": {},
   "outputs": [],
   "source": [
    "# dictionary for data type modifications\n",
    "dict_dtype = {\n",
    "    'destination':str,\n",
    "    'rating':float,\n",
    "    'rank':int,\n",
    "    'description':str,\n",
    "    'tourist_attractions_count':int,\n",
    "    'best_time_to_go':str,\n",
    "}\n",
    "# iterating the dictionary keys to change datatypes as per the required format\n",
    "for key in dict_dtype.keys():\n",
    "    df_dest[key] = df_dest[key].astype(dict_dtype[key])"
   ]
  },
  {
   "cell_type": "code",
   "execution_count": 18,
   "id": "740303ea",
   "metadata": {},
   "outputs": [
    {
     "data": {
      "text/plain": [
       "destination                   object\n",
       "rating                       float64\n",
       "rank                           int32\n",
       "description                   object\n",
       "tourist_attractions_count      int32\n",
       "best_time_to_go               object\n",
       "dtype: object"
      ]
     },
     "execution_count": 18,
     "metadata": {},
     "output_type": "execute_result"
    }
   ],
   "source": [
    "# verifying datatypes for each column after transformation\n",
    "df_dest.dtypes"
   ]
  },
  {
   "cell_type": "code",
   "execution_count": 67,
   "id": "4150e9fb",
   "metadata": {},
   "outputs": [
    {
     "data": {
      "text/html": [
       "<div>\n",
       "<style scoped>\n",
       "    .dataframe tbody tr th:only-of-type {\n",
       "        vertical-align: middle;\n",
       "    }\n",
       "\n",
       "    .dataframe tbody tr th {\n",
       "        vertical-align: top;\n",
       "    }\n",
       "\n",
       "    .dataframe thead th {\n",
       "        text-align: right;\n",
       "    }\n",
       "</style>\n",
       "<table border=\"1\" class=\"dataframe\">\n",
       "  <thead>\n",
       "    <tr style=\"text-align: right;\">\n",
       "      <th></th>\n",
       "      <th>rating</th>\n",
       "      <th>rank</th>\n",
       "      <th>tourist_attractions_count</th>\n",
       "    </tr>\n",
       "  </thead>\n",
       "  <tbody>\n",
       "    <tr>\n",
       "      <th>count</th>\n",
       "      <td>100.000000</td>\n",
       "      <td>100.000000</td>\n",
       "      <td>100.000000</td>\n",
       "    </tr>\n",
       "    <tr>\n",
       "      <th>mean</th>\n",
       "      <td>3.253000</td>\n",
       "      <td>50.500000</td>\n",
       "      <td>78.480000</td>\n",
       "    </tr>\n",
       "    <tr>\n",
       "      <th>std</th>\n",
       "      <td>1.008094</td>\n",
       "      <td>29.011492</td>\n",
       "      <td>57.882584</td>\n",
       "    </tr>\n",
       "    <tr>\n",
       "      <th>min</th>\n",
       "      <td>0.000000</td>\n",
       "      <td>1.000000</td>\n",
       "      <td>9.000000</td>\n",
       "    </tr>\n",
       "    <tr>\n",
       "      <th>25%</th>\n",
       "      <td>2.500000</td>\n",
       "      <td>25.750000</td>\n",
       "      <td>43.750000</td>\n",
       "    </tr>\n",
       "    <tr>\n",
       "      <th>50%</th>\n",
       "      <td>3.450000</td>\n",
       "      <td>50.500000</td>\n",
       "      <td>66.500000</td>\n",
       "    </tr>\n",
       "    <tr>\n",
       "      <th>75%</th>\n",
       "      <td>4.000000</td>\n",
       "      <td>75.250000</td>\n",
       "      <td>89.250000</td>\n",
       "    </tr>\n",
       "    <tr>\n",
       "      <th>max</th>\n",
       "      <td>5.000000</td>\n",
       "      <td>100.000000</td>\n",
       "      <td>282.000000</td>\n",
       "    </tr>\n",
       "  </tbody>\n",
       "</table>\n",
       "</div>"
      ],
      "text/plain": [
       "           rating        rank  tourist_attractions_count\n",
       "count  100.000000  100.000000                 100.000000\n",
       "mean     3.253000   50.500000                  78.480000\n",
       "std      1.008094   29.011492                  57.882584\n",
       "min      0.000000    1.000000                   9.000000\n",
       "25%      2.500000   25.750000                  43.750000\n",
       "50%      3.450000   50.500000                  66.500000\n",
       "75%      4.000000   75.250000                  89.250000\n",
       "max      5.000000  100.000000                 282.000000"
      ]
     },
     "execution_count": 67,
     "metadata": {},
     "output_type": "execute_result"
    }
   ],
   "source": [
    "# describe the data to understand the distriution\n",
    "df_dest.describe()"
   ]
  },
  {
   "cell_type": "code",
   "execution_count": 68,
   "id": "5b981e0a",
   "metadata": {},
   "outputs": [
    {
     "name": "stdout",
     "output_type": "stream",
     "text": [
      "<class 'pandas.core.frame.DataFrame'>\n",
      "RangeIndex: 100 entries, 0 to 99\n",
      "Data columns (total 6 columns):\n",
      " #   Column                     Non-Null Count  Dtype  \n",
      "---  ------                     --------------  -----  \n",
      " 0   destination                100 non-null    object \n",
      " 1   rating                     100 non-null    float64\n",
      " 2   rank                       100 non-null    int32  \n",
      " 3   description                100 non-null    object \n",
      " 4   tourist_attractions_count  100 non-null    int32  \n",
      " 5   best_time_to_go            100 non-null    object \n",
      "dtypes: float64(1), int32(2), object(3)\n",
      "memory usage: 4.0+ KB\n"
     ]
    }
   ],
   "source": [
    "# checking nulls in data\n",
    "df_dest.info()"
   ]
  },
  {
   "cell_type": "code",
   "execution_count": 22,
   "id": "fb753616",
   "metadata": {},
   "outputs": [
    {
     "data": {
      "image/png": "[encoded data removed]",
      "text/plain": [
       "<Figure size 432x288 with 1 Axes>"
      ]
     },
     "metadata": {
      "needs_background": "light"
     },
     "output_type": "display_data"
    }
   ],
   "source": [
    "# Distribution plot\n",
    "# mean review count from dataframe\n",
    "mu = np.mean(df_dest[\"rating\"])\n",
    "# standard deviation review count from dataframe\n",
    "sigma = np.std(df_dest[\"rating\"])\n",
    "# numpy random normalizing\n",
    "s = np.random.normal(mu, sigma, 1000)\n",
    "# Calculating probability density function (PDF)\n",
    "pdf = stats.norm.pdf(df_dest[\"rating\"].sort_values(), mu, sigma)\n",
    "# Drawing a graph\n",
    "plt.plot(df_dest[\"rating\"].sort_values(), pdf)\n",
    "plt.xlabel(\"Rating (out of 10)\", size=12)    \n",
    "plt.ylabel(\"Frequency\", size=12)                \n",
    "plt.grid(True, alpha=0.1, linestyle=\"--\")\n",
    "# show plots\n",
    "plt.show()"
   ]
  },
  {
   "cell_type": "code",
   "execution_count": 69,
   "id": "3699437a",
   "metadata": {},
   "outputs": [
    {
     "data": {
      "image/png": "[encoded data removed]",
      "text/plain": [
       "<Figure size 432x288 with 1 Axes>"
      ]
     },
     "metadata": {
      "needs_background": "light"
     },
     "output_type": "display_data"
    }
   ],
   "source": [
    "# box plot for rating in data\n",
    "sns.boxplot(y=\"rating\", data=df_dest);"
   ]
  },
  {
   "cell_type": "code",
   "execution_count": 70,
   "id": "21bdcced",
   "metadata": {},
   "outputs": [
    {
     "data": {
      "text/plain": [
       "Text(0.5, 0, 'Destinations')"
      ]
     },
     "execution_count": 70,
     "metadata": {},
     "output_type": "execute_result"
    },
    {
     "data": {
      "image/png": "[encoded data removed]",
      "text/plain": [
       "<Figure size 432x288 with 1 Axes>"
      ]
     },
     "metadata": {
      "needs_background": "light"
     },
     "output_type": "display_data"
    }
   ],
   "source": [
    "# top 15 destinations based on rank\n",
    "top_destinations=df_dest.sort_values(by=['rank'], ascending=True).iloc[:15,:]\n",
    "city_bar = top_destinations.plot.bar(x=\"destination\", y=\"rating\", rot=90, legend=None, color=\"teal\", zorder=3)\n",
    "# formatting the graph plot\n",
    "plt.grid(which=\"major\", axis=\"y\", zorder=0)\n",
    "plt.xticks(rotation=90)\n",
    "plt.title(\"Top 15 destinations in USA and their ratings\")\n",
    "plt.ylabel(\"Ratings\")\n",
    "plt.xlabel(\"Destinations\")"
   ]
  },
  {
   "cell_type": "code",
   "execution_count": 71,
   "id": "7050cc9b",
   "metadata": {},
   "outputs": [],
   "source": [
    "# writing the output file\n",
    "df_dest.to_csv(r'C:\\Users\\naman\\PycharmProjects\\DMDDA3\\Output_US_Destinations.csv',index=False)"
   ]
  }
 ],
 "metadata": {
  "kernelspec": {
   "display_name": "Python 3",
   "language": "python",
   "name": "python3"
  },
  "language_info": {
   "codemirror_mode": {
    "name": "ipython",
    "version": 3
   },
   "file_extension": ".py",
   "mimetype": "text/x-python",
   "name": "python",
   "nbconvert_exporter": "python",
   "pygments_lexer": "ipython3",
   "version": "3.8.8"
  }
 },
 "nbformat": 4,
 "nbformat_minor": 5
}
