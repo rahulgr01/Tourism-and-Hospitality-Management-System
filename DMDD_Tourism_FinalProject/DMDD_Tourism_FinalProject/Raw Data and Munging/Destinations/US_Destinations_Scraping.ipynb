{
 "cells": [
  {
   "cell_type": "code",
   "execution_count": 1,
   "id": "a982ee11",
   "metadata": {},
   "outputs": [],
   "source": [
    "import requests\n",
    "from bs4 import BeautifulSoup as soup\n",
    "import pandas as pd"
   ]
  },
  {
   "cell_type": "code",
   "execution_count": 4,
   "id": "0cbaa3c1",
   "metadata": {},
   "outputs": [],
   "source": [
    "def get_bs_objects(url):\n",
    "    html = requests.get(url)\n",
    "    if html.status_code == 200:\n",
    "        bsobj = soup(html.content,'lxml')\n",
    "        return bsobj\n",
    "    else:\n",
    "        return None"
   ]
  },
  {
   "cell_type": "code",
   "execution_count": 47,
   "id": "f46dfb51",
   "metadata": {},
   "outputs": [],
   "source": [
    "def get_bs_object_df(bsobj,destinations,ratings,tourist_attractions_count,tourist_attractions_rank,\n",
    "                                       best_time,descriptions,dict_values):\n",
    "    \n",
    "    for title in bsobj.findAll('h3',{'class':'card-heading'}):\n",
    "        destinations.append(title.text.strip())   \n",
    "    \n",
    "    for rating in bsobj.findAll('span',{'class':'rating-badge'}):\n",
    "        ratings.append(rating.b.text.strip() + rating.span.text.strip())\n",
    "    for i in range(len(destinations)-len(ratings)):\n",
    "        ratings.append('Not known')\n",
    "    \n",
    "    for count in bsobj.findAll('div',{'class':'card-body'}):\n",
    "        try:\n",
    "            tourist_attractions_count.append(count.p.text.strip().split('\\n')[-1].strip())\n",
    "        except:\n",
    "            pass\n",
    "        \n",
    "    for count in bsobj.findAll('div',{'class':'card-body'}):\n",
    "        try:\n",
    "            tourist_attractions_rank.append(count.p.text.strip().split('\\n')[0].strip())\n",
    "        except:\n",
    "            pass\n",
    "        \n",
    "    for best in bsobj.findAll('p',{'class':'mb-3'}):\n",
    "        best_time.append(best.text.split(':')[-1].strip())\n",
    "        \n",
    "    for i in range(len(destinations)-len(best_time)):\n",
    "        best_time.append('Not known')\n",
    "        \n",
    "    for desc in bsobj.findAll('p',{'class':'card-text'}):\n",
    "        descriptions.append(desc.text.strip())\n",
    "        \n",
    "    df_destinations = pd.DataFrame.from_dict(dict_values)\n",
    "    \n",
    "    return df_destinations"
   ]
  },
  {
   "cell_type": "code",
   "execution_count": 48,
   "id": "157ab0c1",
   "metadata": {},
   "outputs": [
    {
     "name": "stdout",
     "output_type": "stream",
     "text": [
      "https://www.holidify.com/country/usa/places-to-visit.html\n",
      "https://www.holidify.com/country/usa/places-to-visit.html?pageNum=1\n",
      "https://www.holidify.com/country/usa/places-to-visit.html?pageNum=2\n"
     ]
    }
   ],
   "source": [
    "list_urls = ['https://www.holidify.com/country/usa/places-to-visit.html',\n",
    "'https://www.holidify.com/country/usa/places-to-visit.html?pageNum=1',\n",
    "             'https://www.holidify.com/country/usa/places-to-visit.html?pageNum=2']\n",
    "\n",
    "destinations,ratings,tourist_attractions_count,tourist_attractions_rank,best_time,descriptions = ([] for i in range(6))\n",
    "dict_values = {'destination':destinations,'rating':ratings,'rank':tourist_attractions_rank,'description':descriptions,\n",
    "               'tourist_attractions_count':tourist_attractions_count,'best_time_to_go':best_time}\n",
    "\n",
    "for url in list_urls:\n",
    "    print(url)\n",
    "    bsobj = get_bs_objects(url)\n",
    "    df_destinations = get_bs_object_df(bsobj,destinations,ratings,tourist_attractions_count,tourist_attractions_rank,\n",
    "                                       best_time,descriptions,dict_values)"
   ]
  },
  {
   "cell_type": "code",
   "execution_count": 49,
   "id": "3512d61a",
   "metadata": {
    "scrolled": true
   },
   "outputs": [
    {
     "data": {
      "text/html": [
       "<div>\n",
       "<style scoped>\n",
       "    .dataframe tbody tr th:only-of-type {\n",
       "        vertical-align: middle;\n",
       "    }\n",
       "\n",
       "    .dataframe tbody tr th {\n",
       "        vertical-align: top;\n",
       "    }\n",
       "\n",
       "    .dataframe thead th {\n",
       "        text-align: right;\n",
       "    }\n",
       "</style>\n",
       "<table border=\"1\" class=\"dataframe\">\n",
       "  <thead>\n",
       "    <tr style=\"text-align: right;\">\n",
       "      <th></th>\n",
       "      <th>destination</th>\n",
       "      <th>rating</th>\n",
       "      <th>rank</th>\n",
       "      <th>description</th>\n",
       "      <th>tourist_attractions_count</th>\n",
       "      <th>best_time_to_go</th>\n",
       "    </tr>\n",
       "  </thead>\n",
       "  <tbody>\n",
       "    <tr>\n",
       "      <th>0</th>\n",
       "      <td>1. New York City</td>\n",
       "      <td>4.8/5</td>\n",
       "      <td>1 out of 100  Places to visit in United States...</td>\n",
       "      <td>An iconic global centre that has inspired the ...</td>\n",
       "      <td>275  Tourist attractions</td>\n",
       "      <td>Throughout the year</td>\n",
       "    </tr>\n",
       "    <tr>\n",
       "      <th>1</th>\n",
       "      <td>2. Las Vegas</td>\n",
       "      <td>4.0/5</td>\n",
       "      <td>2 out of 100  Places to visit in United States...</td>\n",
       "      <td>Las Vegas - a place that brings neon signboard...</td>\n",
       "      <td>117  Tourist attractions</td>\n",
       "      <td>September to November (Autumn)</td>\n",
       "    </tr>\n",
       "    <tr>\n",
       "      <th>2</th>\n",
       "      <td>3. Los Angeles</td>\n",
       "      <td>3.6/5</td>\n",
       "      <td>3 out of 100  Places to visit in United States...</td>\n",
       "      <td>Los Angeles is the hub of all activities on th...</td>\n",
       "      <td>234  Tourist attractions</td>\n",
       "      <td>September to November (Autumn)</td>\n",
       "    </tr>\n",
       "    <tr>\n",
       "      <th>3</th>\n",
       "      <td>4. San Francisco</td>\n",
       "      <td>4.0/5</td>\n",
       "      <td>4 out of 100  Places to visit in United States...</td>\n",
       "      <td>San Francisco is one of the most important cit...</td>\n",
       "      <td>256  Tourist attractions</td>\n",
       "      <td>September to November (Autumn)</td>\n",
       "    </tr>\n",
       "    <tr>\n",
       "      <th>4</th>\n",
       "      <td>5. San Diego</td>\n",
       "      <td>5.0/5</td>\n",
       "      <td>5 out of 100  Places to visit in United States...</td>\n",
       "      <td>Home to serene white-sand beaches, San Diego i...</td>\n",
       "      <td>282  Tourist attractions</td>\n",
       "      <td>March to May, September to November</td>\n",
       "    </tr>\n",
       "    <tr>\n",
       "      <th>...</th>\n",
       "      <td>...</td>\n",
       "      <td>...</td>\n",
       "      <td>...</td>\n",
       "      <td>...</td>\n",
       "      <td>...</td>\n",
       "      <td>...</td>\n",
       "    </tr>\n",
       "    <tr>\n",
       "      <th>95</th>\n",
       "      <td>96. Newport</td>\n",
       "      <td>3.5/5</td>\n",
       "      <td>96 out of 100  Places to visit in United State...</td>\n",
       "      <td>Newport is 180 miles far or close to three hou...</td>\n",
       "      <td>96 out of 100  Places to visit in United State...</td>\n",
       "      <td>Not known</td>\n",
       "    </tr>\n",
       "    <tr>\n",
       "      <th>96</th>\n",
       "      <td>97. Buffalo</td>\n",
       "      <td>3.0/5</td>\n",
       "      <td>97 out of 100  Places to visit in United State...</td>\n",
       "      <td>Buffalo is the second-largest city located in ...</td>\n",
       "      <td>97 out of 100  Places to visit in United State...</td>\n",
       "      <td>Not known</td>\n",
       "    </tr>\n",
       "    <tr>\n",
       "      <th>97</th>\n",
       "      <td>98. Cape Cod</td>\n",
       "      <td>3.9/5</td>\n",
       "      <td>98 out of 100  Places to visit in United State...</td>\n",
       "      <td>Cape Cod is  200 miles away or about 4 and a h...</td>\n",
       "      <td>98 out of 100  Places to visit in United State...</td>\n",
       "      <td>Not known</td>\n",
       "    </tr>\n",
       "    <tr>\n",
       "      <th>98</th>\n",
       "      <td>99. Bedford</td>\n",
       "      <td>3.0/5</td>\n",
       "      <td>99 out of 100  Places to visit in United State...</td>\n",
       "      <td>About an hour away or 46 miles from the buzz o...</td>\n",
       "      <td>99 out of 100  Places to visit in United State...</td>\n",
       "      <td>Not known</td>\n",
       "    </tr>\n",
       "    <tr>\n",
       "      <th>99</th>\n",
       "      <td>100. Norwalk</td>\n",
       "      <td>3.0/5</td>\n",
       "      <td>100 out of 100  Places to visit in United Stat...</td>\n",
       "      <td>78 miles away from NYC is the city of Norwalk ...</td>\n",
       "      <td>100 out of 100  Places to visit in United Stat...</td>\n",
       "      <td>Not known</td>\n",
       "    </tr>\n",
       "  </tbody>\n",
       "</table>\n",
       "<p>100 rows × 6 columns</p>\n",
       "</div>"
      ],
      "text/plain": [
       "         destination rating  \\\n",
       "0   1. New York City  4.8/5   \n",
       "1       2. Las Vegas  4.0/5   \n",
       "2     3. Los Angeles  3.6/5   \n",
       "3   4. San Francisco  4.0/5   \n",
       "4       5. San Diego  5.0/5   \n",
       "..               ...    ...   \n",
       "95       96. Newport  3.5/5   \n",
       "96       97. Buffalo  3.0/5   \n",
       "97      98. Cape Cod  3.9/5   \n",
       "98       99. Bedford  3.0/5   \n",
       "99      100. Norwalk  3.0/5   \n",
       "\n",
       "                                                 rank  \\\n",
       "0   1 out of 100  Places to visit in United States...   \n",
       "1   2 out of 100  Places to visit in United States...   \n",
       "2   3 out of 100  Places to visit in United States...   \n",
       "3   4 out of 100  Places to visit in United States...   \n",
       "4   5 out of 100  Places to visit in United States...   \n",
       "..                                                ...   \n",
       "95  96 out of 100  Places to visit in United State...   \n",
       "96  97 out of 100  Places to visit in United State...   \n",
       "97  98 out of 100  Places to visit in United State...   \n",
       "98  99 out of 100  Places to visit in United State...   \n",
       "99  100 out of 100  Places to visit in United Stat...   \n",
       "\n",
       "                                          description  \\\n",
       "0   An iconic global centre that has inspired the ...   \n",
       "1   Las Vegas - a place that brings neon signboard...   \n",
       "2   Los Angeles is the hub of all activities on th...   \n",
       "3   San Francisco is one of the most important cit...   \n",
       "4   Home to serene white-sand beaches, San Diego i...   \n",
       "..                                                ...   \n",
       "95  Newport is 180 miles far or close to three hou...   \n",
       "96  Buffalo is the second-largest city located in ...   \n",
       "97  Cape Cod is  200 miles away or about 4 and a h...   \n",
       "98  About an hour away or 46 miles from the buzz o...   \n",
       "99  78 miles away from NYC is the city of Norwalk ...   \n",
       "\n",
       "                            tourist_attractions_count  \\\n",
       "0                            275  Tourist attractions   \n",
       "1                            117  Tourist attractions   \n",
       "2                            234  Tourist attractions   \n",
       "3                            256  Tourist attractions   \n",
       "4                            282  Tourist attractions   \n",
       "..                                                ...   \n",
       "95  96 out of 100  Places to visit in United State...   \n",
       "96  97 out of 100  Places to visit in United State...   \n",
       "97  98 out of 100  Places to visit in United State...   \n",
       "98  99 out of 100  Places to visit in United State...   \n",
       "99  100 out of 100  Places to visit in United Stat...   \n",
       "\n",
       "                        best_time_to_go  \n",
       "0                   Throughout the year  \n",
       "1        September to November (Autumn)  \n",
       "2        September to November (Autumn)  \n",
       "3        September to November (Autumn)  \n",
       "4   March to May, September to November  \n",
       "..                                  ...  \n",
       "95                            Not known  \n",
       "96                            Not known  \n",
       "97                            Not known  \n",
       "98                            Not known  \n",
       "99                            Not known  \n",
       "\n",
       "[100 rows x 6 columns]"
      ]
     },
     "execution_count": 49,
     "metadata": {},
     "output_type": "execute_result"
    }
   ],
   "source": [
    "df_destinations"
   ]
  },
  {
   "cell_type": "code",
   "execution_count": 51,
   "id": "4f698cbc",
   "metadata": {},
   "outputs": [],
   "source": [
    "df_destinations.to_csv('C:/Users/naman/OneDrive/Documents/US_Destinations.csv',index=False)"
   ]
  },
  {
   "cell_type": "code",
   "execution_count": 5,
   "id": "b1fdebac",
   "metadata": {},
   "outputs": [],
   "source": [
    "# html = requests.get('https://www.holidify.com/country/usa/places-to-visit.html')\n",
    "# html.status_code"
   ]
  },
  {
   "cell_type": "code",
   "execution_count": 6,
   "id": "180beb09",
   "metadata": {},
   "outputs": [],
   "source": [
    "# html1 = requests.get('https://www.holidify.com/country/usa/places-to-visit.html?pageNum=1')\n",
    "# html1.status_code"
   ]
  },
  {
   "cell_type": "code",
   "execution_count": 7,
   "id": "ccdb77f2",
   "metadata": {},
   "outputs": [],
   "source": [
    "# html2 = requests.get('https://www.holidify.com/country/usa/places-to-visit.html?pageNum=2')\n",
    "# html2.status_code"
   ]
  },
  {
   "cell_type": "code",
   "execution_count": 8,
   "id": "456ee7c2",
   "metadata": {},
   "outputs": [],
   "source": [
    "# bsobj = soup(html.content,'lxml')"
   ]
  },
  {
   "cell_type": "code",
   "execution_count": 9,
   "id": "ecdfa57d",
   "metadata": {},
   "outputs": [],
   "source": [
    "# print(bsobj.prettify())"
   ]
  },
  {
   "cell_type": "code",
   "execution_count": 11,
   "id": "b44d8846",
   "metadata": {},
   "outputs": [],
   "source": [
    "# # destinations = []\n",
    "# for title in bsobj.findAll('h3',{'class':'card-heading'}):\n",
    "#     destinations.append(title.text.strip())    \n",
    "# # print(destinations)\n",
    "# len(destinations)"
   ]
  },
  {
   "cell_type": "code",
   "execution_count": 12,
   "id": "5830f34f",
   "metadata": {},
   "outputs": [],
   "source": [
    "# # ratings = []\n",
    "# for rating in bsobj.findAll('span',{'class':'rating-badge'}):\n",
    "#     ratings.append(rating.b.text.strip() + rating.span.text.strip())\n",
    "# # print(ratings)\n",
    "# len(ratings)"
   ]
  },
  {
   "cell_type": "code",
   "execution_count": 13,
   "id": "61efd711",
   "metadata": {},
   "outputs": [],
   "source": [
    "# # tourist_attractions_count = []\n",
    "# for count in bsobj.findAll('div',{'class':'card-body'}):\n",
    "#     try:\n",
    "#         tourist_attractions_count.append(count.p.text.strip().split('\\n')[-1].strip())\n",
    "#     except:\n",
    "#         pass\n",
    "# #         tourist_attractions_count.append('no data')\n",
    "# # print(tourist_attractions_count)\n",
    "# len(tourist_attractions_count)"
   ]
  },
  {
   "cell_type": "code",
   "execution_count": 14,
   "id": "2bec5bac",
   "metadata": {
    "scrolled": true
   },
   "outputs": [],
   "source": [
    "# # tourist_attractions_rank = []\n",
    "# for count in bsobj.findAll('div',{'class':'card-body'}):\n",
    "#     try:\n",
    "#         tourist_attractions_rank.append(count.p.text.strip().split('\\n')[0].strip())\n",
    "#     except:\n",
    "#         pass\n",
    "# #         tourist_attractions_rank.append('no data')\n",
    "# # print(tourist_attractions_rank)\n",
    "# len(tourist_attractions_rank)"
   ]
  },
  {
   "cell_type": "code",
   "execution_count": 15,
   "id": "2cb04254",
   "metadata": {},
   "outputs": [],
   "source": [
    "# # best_time = []\n",
    "# for best in bsobj.findAll('p',{'class':'mb-3'}):\n",
    "#     best_time.append(best.text.split(':')[-1].strip())\n",
    "    \n",
    "# for i in range(len(destinations)-len(best_time)):\n",
    "#     best_time.append('Not known')\n",
    "\n",
    "# len(best_time)"
   ]
  },
  {
   "cell_type": "code",
   "execution_count": 16,
   "id": "126a99fc",
   "metadata": {},
   "outputs": [],
   "source": [
    "# # descriptions = []\n",
    "# for desc in bsobj.findAll('p',{'class':'card-text'}):\n",
    "#     descriptions.append(desc.text.strip())\n",
    "# # print(descriptions)\n",
    "# len(descriptions)"
   ]
  }
 ],
 "metadata": {
  "kernelspec": {
   "display_name": "Python 3",
   "language": "python",
   "name": "python3"
  },
  "language_info": {
   "codemirror_mode": {
    "name": "ipython",
    "version": 3
   },
   "file_extension": ".py",
   "mimetype": "text/x-python",
   "name": "python",
   "nbconvert_exporter": "python",
   "pygments_lexer": "ipython3",
   "version": "3.8.8"
  }
 },
 "nbformat": 4,
 "nbformat_minor": 5
}
