{
 "cells": [
  {
   "cell_type": "code",
   "execution_count": 2,
   "id": "d11e3ef4",
   "metadata": {},
   "outputs": [],
   "source": [
    "# importing the required packages\n",
    "import pandas as pd\n",
    "import numpy as np\n",
    "import seaborn as sns\n",
    "import matplotlib.pyplot as plt\n",
    "from scipy import stats"
   ]
  },
  {
   "cell_type": "code",
   "execution_count": 3,
   "id": "c215ca3a",
   "metadata": {},
   "outputs": [
    {
     "data": {
      "text/html": [
       "<div>\n",
       "<style scoped>\n",
       "    .dataframe tbody tr th:only-of-type {\n",
       "        vertical-align: middle;\n",
       "    }\n",
       "\n",
       "    .dataframe tbody tr th {\n",
       "        vertical-align: top;\n",
       "    }\n",
       "\n",
       "    .dataframe thead th {\n",
       "        text-align: right;\n",
       "    }\n",
       "</style>\n",
       "<table border=\"1\" class=\"dataframe\">\n",
       "  <thead>\n",
       "    <tr style=\"text-align: right;\">\n",
       "      <th></th>\n",
       "      <th>name</th>\n",
       "      <th>location</th>\n",
       "      <th>beds</th>\n",
       "      <th>rating</th>\n",
       "      <th>rating_title</th>\n",
       "      <th>number_of_ratings</th>\n",
       "      <th>price</th>\n",
       "      <th>price_for</th>\n",
       "      <th>image</th>\n",
       "      <th>url</th>\n",
       "    </tr>\n",
       "  </thead>\n",
       "  <tbody>\n",
       "    <tr>\n",
       "      <th>0</th>\n",
       "      <td>Stargazer Inn and Suites</td>\n",
       "      <td>Munras Avenue, Monterey</td>\n",
       "      <td>1 large double bed</td>\n",
       "      <td>8.1 out of 10</td>\n",
       "      <td>Very good</td>\n",
       "      <td>1,676 reviews</td>\n",
       "      <td>US$213</td>\n",
       "      <td>2 nights , 2 adults</td>\n",
       "      <td>https://cf.bstatic.com/xdata/images/hotel/squa...</td>\n",
       "      <td>https://www.booking.com/hotel/us/clarion-monte...</td>\n",
       "    </tr>\n",
       "    <tr>\n",
       "      <th>1</th>\n",
       "      <td>Pacific Inn Monterey</td>\n",
       "      <td>North Fremont, Monterey</td>\n",
       "      <td>1 large double bed</td>\n",
       "      <td>8.5 out of 10</td>\n",
       "      <td>Very good</td>\n",
       "      <td>1,033 reviews</td>\n",
       "      <td>US$242</td>\n",
       "      <td>2 nights , 2 adults</td>\n",
       "      <td>https://cf.bstatic.com/xdata/images/hotel/squa...</td>\n",
       "      <td>https://www.booking.com/hotel/us/best-western-...</td>\n",
       "    </tr>\n",
       "    <tr>\n",
       "      <th>2</th>\n",
       "      <td>Hotel Pacific</td>\n",
       "      <td>Downtown Monterey, Monterey</td>\n",
       "      <td>1 extra-large double bed</td>\n",
       "      <td>7.5 out of 10</td>\n",
       "      <td>Good</td>\n",
       "      <td>2,151 reviews</td>\n",
       "      <td>US$678</td>\n",
       "      <td>2 nights , 2 adults</td>\n",
       "      <td>https://cf.bstatic.com/xdata/images/hotel/squa...</td>\n",
       "      <td>https://www.booking.com/hotel/us/pacific.en-gb...</td>\n",
       "    </tr>\n",
       "    <tr>\n",
       "      <th>3</th>\n",
       "      <td>Stage Coach Lodge</td>\n",
       "      <td>Downtown Monterey, Monterey</td>\n",
       "      <td>1 extra-large double bed</td>\n",
       "      <td>8.5 out of 10</td>\n",
       "      <td>Very good</td>\n",
       "      <td>1,090 reviews</td>\n",
       "      <td>US$338</td>\n",
       "      <td>2 nights , 2 adults</td>\n",
       "      <td>https://cf.bstatic.com/xdata/images/hotel/squa...</td>\n",
       "      <td>https://www.booking.com/hotel/us/stage-coach-l...</td>\n",
       "    </tr>\n",
       "    <tr>\n",
       "      <th>4</th>\n",
       "      <td>El Castell Motel</td>\n",
       "      <td>North Fremont, Monterey</td>\n",
       "      <td>1 large double bed</td>\n",
       "      <td>8.3 out of 10</td>\n",
       "      <td>Very good</td>\n",
       "      <td>1,210 reviews</td>\n",
       "      <td>US$248</td>\n",
       "      <td>2 nights , 2 adults</td>\n",
       "      <td>https://cf.bstatic.com/xdata/images/hotel/squa...</td>\n",
       "      <td>https://www.booking.com/hotel/us/el-castell.en...</td>\n",
       "    </tr>\n",
       "  </tbody>\n",
       "</table>\n",
       "</div>"
      ],
      "text/plain": [
       "                       name                     location  \\\n",
       "0  Stargazer Inn and Suites      Munras Avenue, Monterey   \n",
       "1      Pacific Inn Monterey      North Fremont, Monterey   \n",
       "2             Hotel Pacific  Downtown Monterey, Monterey   \n",
       "3         Stage Coach Lodge  Downtown Monterey, Monterey   \n",
       "4          El Castell Motel      North Fremont, Monterey   \n",
       "\n",
       "                       beds         rating rating_title number_of_ratings  \\\n",
       "0        1 large double bed  8.1 out of 10    Very good     1,676 reviews   \n",
       "1        1 large double bed  8.5 out of 10    Very good     1,033 reviews   \n",
       "2  1 extra-large double bed  7.5 out of 10         Good     2,151 reviews   \n",
       "3  1 extra-large double bed  8.5 out of 10    Very good     1,090 reviews   \n",
       "4        1 large double bed  8.3 out of 10    Very good     1,210 reviews   \n",
       "\n",
       "    price            price_for  \\\n",
       "0  US$213  2 nights , 2 adults   \n",
       "1  US$242  2 nights , 2 adults   \n",
       "2  US$678  2 nights , 2 adults   \n",
       "3  US$338  2 nights , 2 adults   \n",
       "4  US$248  2 nights , 2 adults   \n",
       "\n",
       "                                               image  \\\n",
       "0  https://cf.bstatic.com/xdata/images/hotel/squa...   \n",
       "1  https://cf.bstatic.com/xdata/images/hotel/squa...   \n",
       "2  https://cf.bstatic.com/xdata/images/hotel/squa...   \n",
       "3  https://cf.bstatic.com/xdata/images/hotel/squa...   \n",
       "4  https://cf.bstatic.com/xdata/images/hotel/squa...   \n",
       "\n",
       "                                                 url  \n",
       "0  https://www.booking.com/hotel/us/clarion-monte...  \n",
       "1  https://www.booking.com/hotel/us/best-western-...  \n",
       "2  https://www.booking.com/hotel/us/pacific.en-gb...  \n",
       "3  https://www.booking.com/hotel/us/stage-coach-l...  \n",
       "4  https://www.booking.com/hotel/us/el-castell.en...  "
      ]
     },
     "execution_count": 3,
     "metadata": {},
     "output_type": "execute_result"
    }
   ],
   "source": [
    "# reading the CSV raw data thorugh pandas\n",
    "df_hotels = pd.read_csv(r'C:\\Users\\naman\\Downloads\\DMDDA3\\DMDDA3\\Hotels\\US_Hotels.csv')\n",
    "df_hotels.head()"
   ]
  },
  {
   "cell_type": "code",
   "execution_count": 4,
   "id": "b34668f6",
   "metadata": {},
   "outputs": [
    {
     "name": "stderr",
     "output_type": "stream",
     "text": [
      "<ipython-input-4-6a6a25d6edad>:3: FutureWarning: The default value of regex will change from True to False in a future version.\n",
      "  df_hotels['price'] = df_hotels['price'].str.replace(r'\\D', '')\n"
     ]
    },
    {
     "data": {
      "text/html": [
       "<div>\n",
       "<style scoped>\n",
       "    .dataframe tbody tr th:only-of-type {\n",
       "        vertical-align: middle;\n",
       "    }\n",
       "\n",
       "    .dataframe tbody tr th {\n",
       "        vertical-align: top;\n",
       "    }\n",
       "\n",
       "    .dataframe thead th {\n",
       "        text-align: right;\n",
       "    }\n",
       "</style>\n",
       "<table border=\"1\" class=\"dataframe\">\n",
       "  <thead>\n",
       "    <tr style=\"text-align: right;\">\n",
       "      <th></th>\n",
       "      <th>name</th>\n",
       "      <th>location</th>\n",
       "      <th>beds</th>\n",
       "      <th>rating</th>\n",
       "      <th>rating_title</th>\n",
       "      <th>number_of_ratings</th>\n",
       "      <th>price</th>\n",
       "      <th>price_for</th>\n",
       "      <th>image</th>\n",
       "      <th>url</th>\n",
       "      <th>Duration</th>\n",
       "      <th>Number of Occupants</th>\n",
       "    </tr>\n",
       "  </thead>\n",
       "  <tbody>\n",
       "    <tr>\n",
       "      <th>0</th>\n",
       "      <td>Stargazer Inn and Suites</td>\n",
       "      <td>Monterey</td>\n",
       "      <td>1 large double bed</td>\n",
       "      <td>8.1</td>\n",
       "      <td>Very good</td>\n",
       "      <td>1676</td>\n",
       "      <td>213</td>\n",
       "      <td>2 nights , 2 adults</td>\n",
       "      <td>https://cf.bstatic.com/xdata/images/hotel/squa...</td>\n",
       "      <td>https://www.booking.com/hotel/us/clarion-monte...</td>\n",
       "      <td>2 nights</td>\n",
       "      <td>2 adults</td>\n",
       "    </tr>\n",
       "    <tr>\n",
       "      <th>1</th>\n",
       "      <td>Pacific Inn Monterey</td>\n",
       "      <td>Monterey</td>\n",
       "      <td>1 large double bed</td>\n",
       "      <td>8.5</td>\n",
       "      <td>Very good</td>\n",
       "      <td>1033</td>\n",
       "      <td>242</td>\n",
       "      <td>2 nights , 2 adults</td>\n",
       "      <td>https://cf.bstatic.com/xdata/images/hotel/squa...</td>\n",
       "      <td>https://www.booking.com/hotel/us/best-western-...</td>\n",
       "      <td>2 nights</td>\n",
       "      <td>2 adults</td>\n",
       "    </tr>\n",
       "    <tr>\n",
       "      <th>2</th>\n",
       "      <td>Hotel Pacific</td>\n",
       "      <td>Monterey</td>\n",
       "      <td>1 extra-large double bed</td>\n",
       "      <td>7.5</td>\n",
       "      <td>Good</td>\n",
       "      <td>2151</td>\n",
       "      <td>678</td>\n",
       "      <td>2 nights , 2 adults</td>\n",
       "      <td>https://cf.bstatic.com/xdata/images/hotel/squa...</td>\n",
       "      <td>https://www.booking.com/hotel/us/pacific.en-gb...</td>\n",
       "      <td>2 nights</td>\n",
       "      <td>2 adults</td>\n",
       "    </tr>\n",
       "    <tr>\n",
       "      <th>3</th>\n",
       "      <td>Stage Coach Lodge</td>\n",
       "      <td>Monterey</td>\n",
       "      <td>1 extra-large double bed</td>\n",
       "      <td>8.5</td>\n",
       "      <td>Very good</td>\n",
       "      <td>1090</td>\n",
       "      <td>338</td>\n",
       "      <td>2 nights , 2 adults</td>\n",
       "      <td>https://cf.bstatic.com/xdata/images/hotel/squa...</td>\n",
       "      <td>https://www.booking.com/hotel/us/stage-coach-l...</td>\n",
       "      <td>2 nights</td>\n",
       "      <td>2 adults</td>\n",
       "    </tr>\n",
       "    <tr>\n",
       "      <th>4</th>\n",
       "      <td>El Castell Motel</td>\n",
       "      <td>Monterey</td>\n",
       "      <td>1 large double bed</td>\n",
       "      <td>8.3</td>\n",
       "      <td>Very good</td>\n",
       "      <td>1210</td>\n",
       "      <td>248</td>\n",
       "      <td>2 nights , 2 adults</td>\n",
       "      <td>https://cf.bstatic.com/xdata/images/hotel/squa...</td>\n",
       "      <td>https://www.booking.com/hotel/us/el-castell.en...</td>\n",
       "      <td>2 nights</td>\n",
       "      <td>2 adults</td>\n",
       "    </tr>\n",
       "    <tr>\n",
       "      <th>...</th>\n",
       "      <td>...</td>\n",
       "      <td>...</td>\n",
       "      <td>...</td>\n",
       "      <td>...</td>\n",
       "      <td>...</td>\n",
       "      <td>...</td>\n",
       "      <td>...</td>\n",
       "      <td>...</td>\n",
       "      <td>...</td>\n",
       "      <td>...</td>\n",
       "      <td>...</td>\n",
       "      <td>...</td>\n",
       "    </tr>\n",
       "    <tr>\n",
       "      <th>4970</th>\n",
       "      <td>Mt. Madison Inn &amp; Suites</td>\n",
       "      <td>Gorham</td>\n",
       "      <td>1 king bed</td>\n",
       "      <td>8.2</td>\n",
       "      <td>Very Good</td>\n",
       "      <td>464</td>\n",
       "      <td>200</td>\n",
       "      <td>2 nights , 2 adults</td>\n",
       "      <td>https://cf.bstatic.com/xdata/images/hotel/squa...</td>\n",
       "      <td>https://www.booking.com/hotel/us/mt-madison-in...</td>\n",
       "      <td>2 nights</td>\n",
       "      <td>2 adults</td>\n",
       "    </tr>\n",
       "    <tr>\n",
       "      <th>4971</th>\n",
       "      <td>Wildcat Inn and Tavern</td>\n",
       "      <td>Jackson</td>\n",
       "      <td>1 queen bed</td>\n",
       "      <td>8.8</td>\n",
       "      <td>Excellent</td>\n",
       "      <td>135</td>\n",
       "      <td>306</td>\n",
       "      <td>2 nights , 2 adults</td>\n",
       "      <td>https://cf.bstatic.com/xdata/images/hotel/squa...</td>\n",
       "      <td>https://www.booking.com/hotel/us/wildcat-inn-a...</td>\n",
       "      <td>2 nights</td>\n",
       "      <td>2 adults</td>\n",
       "    </tr>\n",
       "    <tr>\n",
       "      <th>4972</th>\n",
       "      <td>Indian Head Resort</td>\n",
       "      <td>Lincoln</td>\n",
       "      <td>2 beds (1 full, 1 king)</td>\n",
       "      <td>7.7</td>\n",
       "      <td>Good</td>\n",
       "      <td>225</td>\n",
       "      <td>469</td>\n",
       "      <td>2 nights , 2 adults</td>\n",
       "      <td>https://cf.bstatic.com/xdata/images/hotel/squa...</td>\n",
       "      <td>https://www.booking.com/hotel/us/indian-head-r...</td>\n",
       "      <td>2 nights</td>\n",
       "      <td>2 adults</td>\n",
       "    </tr>\n",
       "    <tr>\n",
       "      <th>4973</th>\n",
       "      <td>11 Island Drive</td>\n",
       "      <td>Madison</td>\n",
       "      <td>Entire chalet • 2 bedrooms • 1 living room • 1...</td>\n",
       "      <td>9</td>\n",
       "      <td>Wonderful</td>\n",
       "      <td>3</td>\n",
       "      <td>321</td>\n",
       "      <td>2 nights , 2 adults</td>\n",
       "      <td>https://cf.bstatic.com/xdata/images/hotel/squa...</td>\n",
       "      <td>https://www.booking.com/hotel/us/11-island-dri...</td>\n",
       "      <td>2 nights</td>\n",
       "      <td>2 adults</td>\n",
       "    </tr>\n",
       "    <tr>\n",
       "      <th>4974</th>\n",
       "      <td>Cute 2 bdrm Condo walking distance to Weirs Be...</td>\n",
       "      <td>Laconia</td>\n",
       "      <td>Entire apartment • 2 bedrooms • 1 living room ...</td>\n",
       "      <td>9.5</td>\n",
       "      <td>Exceptional</td>\n",
       "      <td>2</td>\n",
       "      <td>402</td>\n",
       "      <td>2 nights , 2 adults</td>\n",
       "      <td>https://cf.bstatic.com/xdata/images/hotel/squa...</td>\n",
       "      <td>https://www.booking.com/hotel/us/cute-2-bdrm-c...</td>\n",
       "      <td>2 nights</td>\n",
       "      <td>2 adults</td>\n",
       "    </tr>\n",
       "  </tbody>\n",
       "</table>\n",
       "<p>4975 rows × 12 columns</p>\n",
       "</div>"
      ],
      "text/plain": [
       "                                                   name   location  \\\n",
       "0                              Stargazer Inn and Suites   Monterey   \n",
       "1                                  Pacific Inn Monterey   Monterey   \n",
       "2                                         Hotel Pacific   Monterey   \n",
       "3                                     Stage Coach Lodge   Monterey   \n",
       "4                                      El Castell Motel   Monterey   \n",
       "...                                                 ...        ...   \n",
       "4970                           Mt. Madison Inn & Suites     Gorham   \n",
       "4971                             Wildcat Inn and Tavern    Jackson   \n",
       "4972                                 Indian Head Resort    Lincoln   \n",
       "4973                                    11 Island Drive    Madison   \n",
       "4974  Cute 2 bdrm Condo walking distance to Weirs Be...    Laconia   \n",
       "\n",
       "                                                   beds rating rating_title  \\\n",
       "0                                    1 large double bed    8.1    Very good   \n",
       "1                                    1 large double bed    8.5    Very good   \n",
       "2                              1 extra-large double bed    7.5         Good   \n",
       "3                              1 extra-large double bed    8.5    Very good   \n",
       "4                                    1 large double bed    8.3    Very good   \n",
       "...                                                 ...    ...          ...   \n",
       "4970                                         1 king bed    8.2    Very Good   \n",
       "4971                                        1 queen bed    8.8    Excellent   \n",
       "4972                            2 beds (1 full, 1 king)    7.7         Good   \n",
       "4973  Entire chalet • 2 bedrooms • 1 living room • 1...      9    Wonderful   \n",
       "4974  Entire apartment • 2 bedrooms • 1 living room ...    9.5  Exceptional   \n",
       "\n",
       "     number_of_ratings price            price_for  \\\n",
       "0                1676    213  2 nights , 2 adults   \n",
       "1                1033    242  2 nights , 2 adults   \n",
       "2                2151    678  2 nights , 2 adults   \n",
       "3                1090    338  2 nights , 2 adults   \n",
       "4                1210    248  2 nights , 2 adults   \n",
       "...                ...   ...                  ...   \n",
       "4970              464    200  2 nights , 2 adults   \n",
       "4971              135    306  2 nights , 2 adults   \n",
       "4972              225    469  2 nights , 2 adults   \n",
       "4973                3    321  2 nights , 2 adults   \n",
       "4974                2    402  2 nights , 2 adults   \n",
       "\n",
       "                                                  image  \\\n",
       "0     https://cf.bstatic.com/xdata/images/hotel/squa...   \n",
       "1     https://cf.bstatic.com/xdata/images/hotel/squa...   \n",
       "2     https://cf.bstatic.com/xdata/images/hotel/squa...   \n",
       "3     https://cf.bstatic.com/xdata/images/hotel/squa...   \n",
       "4     https://cf.bstatic.com/xdata/images/hotel/squa...   \n",
       "...                                                 ...   \n",
       "4970  https://cf.bstatic.com/xdata/images/hotel/squa...   \n",
       "4971  https://cf.bstatic.com/xdata/images/hotel/squa...   \n",
       "4972  https://cf.bstatic.com/xdata/images/hotel/squa...   \n",
       "4973  https://cf.bstatic.com/xdata/images/hotel/squa...   \n",
       "4974  https://cf.bstatic.com/xdata/images/hotel/squa...   \n",
       "\n",
       "                                                    url   Duration  \\\n",
       "0     https://www.booking.com/hotel/us/clarion-monte...  2 nights    \n",
       "1     https://www.booking.com/hotel/us/best-western-...  2 nights    \n",
       "2     https://www.booking.com/hotel/us/pacific.en-gb...  2 nights    \n",
       "3     https://www.booking.com/hotel/us/stage-coach-l...  2 nights    \n",
       "4     https://www.booking.com/hotel/us/el-castell.en...  2 nights    \n",
       "...                                                 ...        ...   \n",
       "4970  https://www.booking.com/hotel/us/mt-madison-in...  2 nights    \n",
       "4971  https://www.booking.com/hotel/us/wildcat-inn-a...  2 nights    \n",
       "4972  https://www.booking.com/hotel/us/indian-head-r...  2 nights    \n",
       "4973  https://www.booking.com/hotel/us/11-island-dri...  2 nights    \n",
       "4974  https://www.booking.com/hotel/us/cute-2-bdrm-c...  2 nights    \n",
       "\n",
       "     Number of Occupants  \n",
       "0               2 adults  \n",
       "1               2 adults  \n",
       "2               2 adults  \n",
       "3               2 adults  \n",
       "4               2 adults  \n",
       "...                  ...  \n",
       "4970            2 adults  \n",
       "4971            2 adults  \n",
       "4972            2 adults  \n",
       "4973            2 adults  \n",
       "4974            2 adults  \n",
       "\n",
       "[4975 rows x 12 columns]"
      ]
     },
     "execution_count": 4,
     "metadata": {},
     "output_type": "execute_result"
    }
   ],
   "source": [
    "# raw data cleaning procedure\n",
    "df_hotels['rating'] = df_hotels.apply(lambda row: row['rating'].split(' ')[0],axis=1)\n",
    "df_hotels['price'] = df_hotels['price'].str.replace(r'\\D', '')\n",
    "df_hotels[['Duration', 'Number of Occupants']] = df_hotels.price_for.str.split(\",\", expand = True)\n",
    "df_hotels['number_of_ratings'] = df_hotels['number_of_ratings'].str.replace('reviews','')\n",
    "df_hotels['number_of_ratings'] = df_hotels['number_of_ratings'].str.replace('review','')\n",
    "df_hotels['number_of_ratings'] = df_hotels['number_of_ratings'].str.replace(',','')\n",
    "df_hotels['number_of_ratings'] =df_hotels['number_of_ratings'].fillna(0)\n",
    "df_hotels['rating'] = df_hotels['rating'].str.strip().replace('','0')\n",
    "df_hotels['rating_title'] = df_hotels['rating_title'].str.replace('Review score','Not Available')\n",
    "df_hotels['location'] = df_hotels.apply(lambda row: row['location'].split(\",\")[-1],axis=1)\n",
    "# displaying the cleaned data\n",
    "df_hotels"
   ]
  },
  {
   "cell_type": "code",
   "execution_count": 5,
   "id": "b299c548",
   "metadata": {},
   "outputs": [
    {
     "data": {
      "text/plain": [
       "name                   4975\n",
       "location               4975\n",
       "beds                   4923\n",
       "rating                 4975\n",
       "rating_title           4975\n",
       "number_of_ratings      4975\n",
       "price                  4975\n",
       "price_for              4975\n",
       "image                  4975\n",
       "url                    4975\n",
       "Duration               4975\n",
       "Number of Occupants    4975\n",
       "dtype: int64"
      ]
     },
     "execution_count": 5,
     "metadata": {},
     "output_type": "execute_result"
    }
   ],
   "source": [
    "# Check for missing values and column names\n",
    "df_hotels.count()"
   ]
  },
  {
   "cell_type": "code",
   "execution_count": 6,
   "id": "cd848848",
   "metadata": {},
   "outputs": [],
   "source": [
    "# Rename column names\n",
    "df_hotels.columns = [\"name\",\"city\",\"beds\",\"rating\",\"rating_title\",\"number_of_ratings\",\"price\",\"price_for\",\"image\",\"url\",\"duration\",\"number_of_occupants\"] "
   ]
  },
  {
   "cell_type": "code",
   "execution_count": 7,
   "id": "17e27f5e",
   "metadata": {},
   "outputs": [],
   "source": [
    "# Delete Column\n",
    "del df_hotels['price_for']"
   ]
  },
  {
   "cell_type": "code",
   "execution_count": 8,
   "id": "be6277cc",
   "metadata": {},
   "outputs": [],
   "source": [
    "# dictionary to take \n",
    "dict_dtype = {\n",
    "    'name':str,\n",
    "    'city':str,\n",
    "    'beds':str,\n",
    "    'rating':float,\n",
    "    'rating_title':str,\n",
    "    'number_of_ratings':int,\n",
    "    'price':int,\n",
    "    'image':str,\n",
    "    'url':str,\n",
    "    'duration':str,\n",
    "    'number_of_occupants':str  \n",
    "}\n",
    "\n",
    "# iterating over the keys of dictionary to change the data type to required format \n",
    "for key in dict_dtype.keys():\n",
    "    df_hotels[key] = df_hotels[key].astype(dict_dtype[key])"
   ]
  },
  {
   "cell_type": "code",
   "execution_count": 9,
   "id": "17805102",
   "metadata": {},
   "outputs": [
    {
     "data": {
      "text/plain": [
       "name                    object\n",
       "city                    object\n",
       "beds                    object\n",
       "rating                 float64\n",
       "rating_title            object\n",
       "number_of_ratings        int32\n",
       "price                    int32\n",
       "image                   object\n",
       "url                     object\n",
       "duration                object\n",
       "number_of_occupants     object\n",
       "dtype: object"
      ]
     },
     "execution_count": 9,
     "metadata": {},
     "output_type": "execute_result"
    }
   ],
   "source": [
    "df_hotels.dtypes"
   ]
  },
  {
   "cell_type": "code",
   "execution_count": 10,
   "id": "de0ff64d",
   "metadata": {},
   "outputs": [
    {
     "data": {
      "image/png": "[encoded data removed]",
      "text/plain": [
       "<Figure size 432x288 with 1 Axes>"
      ]
     },
     "metadata": {
      "needs_background": "light"
     },
     "output_type": "display_data"
    }
   ],
   "source": [
    "# mean price from dataframe\n",
    "mu = np.mean(df_hotels[\"price\"])\n",
    "# standard deviation price from dataframe\n",
    "sigma = np.std(df_hotels[\"price\"])\n",
    "\n",
    "# numpy random normalizing\n",
    "s = np.random.normal(mu, sigma, 1000)\n",
    "\n",
    "# Calculating probability density function (PDF)\n",
    "pdf = stats.norm.pdf(df_hotels[\"price\"].sort_values(), mu, sigma)\n",
    "\n",
    "# Drawing a graph\n",
    "plt.plot(df_hotels[\"price\"].sort_values(), pdf)\n",
    "plt.xlabel(\"Price (in USD)\", size=12)    \n",
    "plt.ylabel(\"Frequency\", size=12)                \n",
    "plt.grid(True, alpha=0.1, linestyle=\"--\")\n",
    "# show plots\n",
    "plt.show()"
   ]
  },
  {
   "cell_type": "code",
   "execution_count": 11,
   "id": "8d88bb3b",
   "metadata": {},
   "outputs": [
    {
     "data": {
      "image/png": "[encoded data removed]",
      "text/plain": [
       "<Figure size 432x288 with 1 Axes>"
      ]
     },
     "metadata": {
      "needs_background": "light"
     },
     "output_type": "display_data"
    }
   ],
   "source": [
    "# mean rating from dataframe\n",
    "mu = np.mean(df_hotels[\"rating\"])\n",
    "# standard deviation rating from dataframe\n",
    "sigma = np.std(df_hotels[\"rating\"])\n",
    "\n",
    "# numpy random normalizing\n",
    "s = np.random.normal(mu, sigma, 1000)\n",
    "\n",
    "# Calculating probability density function (PDF)\n",
    "pdf = stats.norm.pdf(df_hotels[\"rating\"].sort_values(), mu, sigma)\n",
    "\n",
    "# Drawing a graph\n",
    "plt.plot(df_hotels[\"rating\"].sort_values(), pdf)\n",
    "plt.xlabel(\"Rating (out of 10)\", size=12)    \n",
    "plt.ylabel(\"Frequency\", size=12)                \n",
    "plt.grid(True, alpha=0.1, linestyle=\"--\")\n",
    "# show plots\n",
    "plt.show()"
   ]
  },
  {
   "cell_type": "code",
   "execution_count": 12,
   "id": "54359388",
   "metadata": {},
   "outputs": [
    {
     "data": {
      "text/plain": [
       "Text(0, 0.5, '# of Hotels')"
      ]
     },
     "execution_count": 12,
     "metadata": {},
     "output_type": "execute_result"
    },
    {
     "data": {
      "image/png": "[encoded data removed]",
      "text/plain": [
       "<Figure size 432x288 with 1 Axes>"
      ]
     },
     "metadata": {
      "needs_background": "light"
     },
     "output_type": "display_data"
    }
   ],
   "source": [
    "# Get hotel count for each city\n",
    "city_group = df_hotels.groupby(\"city\").count()\n",
    "# Reset index\n",
    "city_group = city_group.reset_index()\n",
    "# Create new dataframe for city name and hotel count\n",
    "city_group = city_group[[\"city\", \"name\"]]\n",
    "# Rename columns\n",
    "city_group.rename(columns={\"name\": \"Hotels Count\"}, inplace=True)\n",
    "hotels_by_city=city_group.sort_values(by=['Hotels Count'], ascending=False).iloc[:15,:]\n",
    "\n",
    "# Create bar chart for hotel count by city\n",
    "city_bar = hotels_by_city.plot.bar(x=\"city\", y=\"Hotels Count\", rot=90, legend=None, color=\"teal\", zorder=3)\n",
    "plt.grid(which=\"major\", axis=\"y\", zorder=0)\n",
    "plt.xticks(rotation=45)\n",
    "plt.title(\"Hotels Count by City in USA\")\n",
    "plt.ylabel(\"# of Hotels\")"
   ]
  },
  {
   "cell_type": "code",
   "execution_count": 13,
   "id": "d0808dac",
   "metadata": {},
   "outputs": [
    {
     "data": {
      "text/plain": [
       "Text(0.5, 1.0, 'Hotels Count Percentage by City in USA')"
      ]
     },
     "execution_count": 13,
     "metadata": {},
     "output_type": "execute_result"
    },
    {
     "data": {
      "image/png": "[encoded data removed]",
      "text/plain": [
       "<Figure size 360x648 with 1 Axes>"
      ]
     },
     "metadata": {},
     "output_type": "display_data"
    }
   ],
   "source": [
    "# Create pie chart for hotel count by city\n",
    "hotels_count = hotels_by_city[\"Hotels Count\"]\n",
    "# colors = [\"aqua\", \"lightblue\", \"gold\", \"olive\", \"turquoise\"]\n",
    "city_labels = hotels_by_city[\"city\"]\n",
    "plt.figure(figsize=(5,9))\n",
    "plt.pie(hotels_count, labels=city_labels, startangle=115, autopct=\"%1.1f%%\")\n",
    "plt.title(\"Hotels Count Percentage by City in USA\")"
   ]
  },
  {
   "cell_type": "code",
   "execution_count": 243,
   "id": "cc9dadba",
   "metadata": {},
   "outputs": [
    {
     "data": {
      "text/plain": [
       "price\n",
       "51      1\n",
       "60      1\n",
       "61      1\n",
       "72      2\n",
       "78      1\n",
       "       ..\n",
       "2352    1\n",
       "2596    2\n",
       "2598    1\n",
       "3401    1\n",
       "4130    1\n",
       "Name: city, Length: 714, dtype: int64"
      ]
     },
     "execution_count": 243,
     "metadata": {},
     "output_type": "execute_result"
    }
   ],
   "source": [
    "# Get hotel count for each city\n",
    "city_group = df_hotels.groupby(\"city\").count()\n",
    "# Reset index\n",
    "city_group = city_group.reset_index()\n",
    "# Create new dataframe for city name and hotel count\n",
    "city_group = city_group[[\"city\", \"name\"]]\n",
    "# Rename columns\n",
    "city_group.rename(columns={\"name\": \"Hotels Count\"}, inplace=True)\n",
    "hotels_by_city=city_group.sort_values(by=['Hotels Count'], ascending=False).iloc[:15,:]\n",
    "\n",
    "# Check value count for each unique value for minimum price column\n",
    "df_hotels.groupby([\"price\"]).count()[\"city\"]"
   ]
  },
  {
   "cell_type": "code",
   "execution_count": 244,
   "id": "e8e11c35",
   "metadata": {},
   "outputs": [
    {
     "name": "stderr",
     "output_type": "stream",
     "text": [
      "C:\\ProgramData\\Anaconda3\\lib\\site-packages\\numpy\\core\\_methods.py:44: RuntimeWarning: invalid value encountered in reduce\n",
      "  return umr_minimum(a, axis, None, out, keepdims, initial, where)\n",
      "C:\\ProgramData\\Anaconda3\\lib\\site-packages\\numpy\\core\\_methods.py:40: RuntimeWarning: invalid value encountered in reduce\n",
      "  return umr_maximum(a, axis, None, out, keepdims, initial, where)\n"
     ]
    },
    {
     "data": {
      "text/plain": [
       "Text(0, 0.5, 'Minimum Hotel Cost (USD)')"
      ]
     },
     "execution_count": 244,
     "metadata": {},
     "output_type": "execute_result"
    },
    {
     "data": {
      "image/png": "[encoded data removed]",
      "text/plain": [
       "<Figure size 432x288 with 1 Axes>"
      ]
     },
     "metadata": {
      "needs_background": "light"
     },
     "output_type": "display_data"
    }
   ],
   "source": [
    "# Get hotel count for each city\n",
    "city_group = df_hotels.groupby(\"city\").count()\n",
    "# Reset index\n",
    "city_group = city_group.reset_index()\n",
    "# Create new dataframe for city name and hotel count\n",
    "city_group = city_group[[\"city\", \"price\"]]\n",
    "hotels_by_city=city_group.sort_values(by=['price'], ascending=False).iloc[:15,:]\n",
    "\n",
    "\n",
    "# Obtain the mean and standard deviation (STD)\n",
    "price_mean = hotels_by_city.groupby([\"city\"]).mean()[\"price\"]\n",
    "price_std = hotels_by_city.groupby([\"city\"]).std()[\"price\"]\n",
    "# Create new dataframe for mean values\n",
    "mean_df = pd.DataFrame({\"city\":price_mean.index, \"Price Mean (USD)\":price_mean.values})\n",
    "mean_df = mean_df.set_index(\"city\")\n",
    "# Create bar chart with y error bar \n",
    "mean_df.plot(kind=\"bar\", yerr=price_std.values, color=\"teal\", legend=None)\n",
    "plt.xticks(rotation=65)\n",
    "plt.grid()\n",
    "plt.title(\"Average Minimum Hotel Cost for Two Nights\")\n",
    "plt.ylabel(\"Minimum Hotel Cost (USD)\")"
   ]
  },
  {
   "cell_type": "code",
   "execution_count": 245,
   "id": "27d867fb",
   "metadata": {},
   "outputs": [
    {
     "data": {
      "image/png": "[encoded data removed]",
      "text/plain": [
       "<Figure size 432x288 with 1 Axes>"
      ]
     },
     "metadata": {
      "needs_background": "light"
     },
     "output_type": "display_data"
    }
   ],
   "source": [
    "# box plot for rating field in data\n",
    "sns.boxplot(y=\"rating\", data=df_hotels);"
   ]
  },
  {
   "cell_type": "code",
   "execution_count": 240,
   "id": "e76a7814",
   "metadata": {},
   "outputs": [],
   "source": [
    "# writing the final output as CSV\n",
    "df_hotels.to_csv(r'C:\\Users\\Dell\\Desktop\\DMDD_Assignment3\\US_Hotels_Updated.csv',index=False)"
   ]
  }
 ],
 "metadata": {
  "kernelspec": {
   "display_name": "Python 3",
   "language": "python",
   "name": "python3"
  },
  "language_info": {
   "codemirror_mode": {
    "name": "ipython",
    "version": 3
   },
   "file_extension": ".py",
   "mimetype": "text/x-python",
   "name": "python",
   "nbconvert_exporter": "python",
   "pygments_lexer": "ipython3",
   "version": "3.8.8"
  }
 },
 "nbformat": 4,
 "nbformat_minor": 5
}
