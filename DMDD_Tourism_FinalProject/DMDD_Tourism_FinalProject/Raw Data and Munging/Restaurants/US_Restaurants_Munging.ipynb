{
 "cells": [
  {
   "cell_type": "code",
   "execution_count": 1,
   "metadata": {},
   "outputs": [],
   "source": [
    "# importing the required packages\n",
    "import pandas as pd\n",
    "import numpy as np\n",
    "import seaborn as sns\n",
    "import matplotlib as mpl\n",
    "import matplotlib.pyplot as plt\n",
    "from scipy import stats"
   ]
  },
  {
   "cell_type": "code",
   "execution_count": 2,
   "metadata": {},
   "outputs": [
    {
     "data": {
      "text/html": [
       "<div>\n",
       "<style scoped>\n",
       "    .dataframe tbody tr th:only-of-type {\n",
       "        vertical-align: middle;\n",
       "    }\n",
       "\n",
       "    .dataframe tbody tr th {\n",
       "        vertical-align: top;\n",
       "    }\n",
       "\n",
       "    .dataframe thead th {\n",
       "        text-align: right;\n",
       "    }\n",
       "</style>\n",
       "<table border=\"1\" class=\"dataframe\">\n",
       "  <thead>\n",
       "    <tr style=\"text-align: right;\">\n",
       "      <th></th>\n",
       "      <th>Name</th>\n",
       "      <th>Street Address</th>\n",
       "      <th>Location</th>\n",
       "      <th>Type</th>\n",
       "      <th>Reviews</th>\n",
       "      <th>No of Reviews</th>\n",
       "      <th>Comments</th>\n",
       "      <th>Contact Number</th>\n",
       "      <th>Trip_advisor Url</th>\n",
       "      <th>Menu</th>\n",
       "    </tr>\n",
       "  </thead>\n",
       "  <tbody>\n",
       "    <tr>\n",
       "      <th>0</th>\n",
       "      <td>135 Prime</td>\n",
       "      <td>1201 Hewitt Dr</td>\n",
       "      <td>Waco, TX</td>\n",
       "      <td>American, Steakhouse, Seafood</td>\n",
       "      <td>4.5 of 5 bubbles</td>\n",
       "      <td>200 reviews</td>\n",
       "      <td>GPS could not get us properly vectored.  When ...</td>\n",
       "      <td>+1 254-666-3100</td>\n",
       "      <td>https://www.tripadvisor.com//Restaurant_Review...</td>\n",
       "      <td>NaN</td>\n",
       "    </tr>\n",
       "    <tr>\n",
       "      <th>1</th>\n",
       "      <td>144 Restaurant and Lounge</td>\n",
       "      <td>14402 135th Ave</td>\n",
       "      <td>Jamaica, NY</td>\n",
       "      <td>American, Bar, Vegetarian Friendly</td>\n",
       "      <td>4 of 5 bubbles</td>\n",
       "      <td>241 reviews</td>\n",
       "      <td>On our way to Italy and staying at the Hilton ...</td>\n",
       "      <td>+1 718-659-0200</td>\n",
       "      <td>https://www.tripadvisor.com//Restaurant_Review...</td>\n",
       "      <td>NaN</td>\n",
       "    </tr>\n",
       "    <tr>\n",
       "      <th>2</th>\n",
       "      <td>15 Church Restaurant</td>\n",
       "      <td>15 Church St</td>\n",
       "      <td>Saratoga Springs, NY</td>\n",
       "      <td>American, Vegetarian Friendly, Vegan Options</td>\n",
       "      <td>4.5 of 5 bubbles</td>\n",
       "      <td>821 reviews</td>\n",
       "      <td>My husband and I absolutely love the food, the...</td>\n",
       "      <td>+1 518-587-1515</td>\n",
       "      <td>https://www.tripadvisor.com//Restaurant_Review...</td>\n",
       "      <td>https://www.15churchrestaurant.com/saratoga-sp...</td>\n",
       "    </tr>\n",
       "    <tr>\n",
       "      <th>3</th>\n",
       "      <td>18 Oaks</td>\n",
       "      <td>23808 Resort Parkway</td>\n",
       "      <td>San Antonio, TX</td>\n",
       "      <td>American, Steakhouse, Gluten Free Options</td>\n",
       "      <td>4.5 of 5 bubbles</td>\n",
       "      <td>350 reviews</td>\n",
       "      <td>This was my 3rd time here for brunch and I wil...</td>\n",
       "      <td>+1 210-491-5825</td>\n",
       "      <td>https://www.tripadvisor.com//Restaurant_Review...</td>\n",
       "      <td>NaN</td>\n",
       "    </tr>\n",
       "    <tr>\n",
       "      <th>4</th>\n",
       "      <td>1848 BBQ</td>\n",
       "      <td>5 Avalon Dr</td>\n",
       "      <td>Brownsville, TX</td>\n",
       "      <td>American, Barbecue</td>\n",
       "      <td>4.5 of 5 bubbles</td>\n",
       "      <td>13 reviews</td>\n",
       "      <td>Their sliced brisket sandwich was amazing!! Li...</td>\n",
       "      <td>+1 956-504-1848</td>\n",
       "      <td>https://www.tripadvisor.com//Restaurant_Review...</td>\n",
       "      <td>NaN</td>\n",
       "    </tr>\n",
       "  </tbody>\n",
       "</table>\n",
       "</div>"
      ],
      "text/plain": [
       "                        Name        Street Address              Location  \\\n",
       "0                  135 Prime        1201 Hewitt Dr              Waco, TX   \n",
       "1  144 Restaurant and Lounge       14402 135th Ave           Jamaica, NY   \n",
       "2       15 Church Restaurant          15 Church St  Saratoga Springs, NY   \n",
       "3                    18 Oaks  23808 Resort Parkway       San Antonio, TX   \n",
       "4                   1848 BBQ           5 Avalon Dr       Brownsville, TX   \n",
       "\n",
       "                                            Type           Reviews  \\\n",
       "0                  American, Steakhouse, Seafood  4.5 of 5 bubbles   \n",
       "1             American, Bar, Vegetarian Friendly    4 of 5 bubbles   \n",
       "2   American, Vegetarian Friendly, Vegan Options  4.5 of 5 bubbles   \n",
       "3      American, Steakhouse, Gluten Free Options  4.5 of 5 bubbles   \n",
       "4                             American, Barbecue  4.5 of 5 bubbles   \n",
       "\n",
       "  No of Reviews                                           Comments  \\\n",
       "0   200 reviews  GPS could not get us properly vectored.  When ...   \n",
       "1   241 reviews  On our way to Italy and staying at the Hilton ...   \n",
       "2   821 reviews  My husband and I absolutely love the food, the...   \n",
       "3   350 reviews  This was my 3rd time here for brunch and I wil...   \n",
       "4    13 reviews  Their sliced brisket sandwich was amazing!! Li...   \n",
       "\n",
       "    Contact Number                                   Trip_advisor Url  \\\n",
       "0  +1 254-666-3100  https://www.tripadvisor.com//Restaurant_Review...   \n",
       "1  +1 718-659-0200  https://www.tripadvisor.com//Restaurant_Review...   \n",
       "2  +1 518-587-1515  https://www.tripadvisor.com//Restaurant_Review...   \n",
       "3  +1 210-491-5825  https://www.tripadvisor.com//Restaurant_Review...   \n",
       "4  +1 956-504-1848  https://www.tripadvisor.com//Restaurant_Review...   \n",
       "\n",
       "                                                Menu  \n",
       "0                                                NaN  \n",
       "1                                                NaN  \n",
       "2  https://www.15churchrestaurant.com/saratoga-sp...  \n",
       "3                                                NaN  \n",
       "4                                                NaN  "
      ]
     },
     "execution_count": 2,
     "metadata": {},
     "output_type": "execute_result"
    }
   ],
   "source": [
    "# reading the CSV raw data thorugh pandas\n",
    "df_rest = pd.read_csv(r'C:/Users/naman/Downloads/DMDDA3/DMDDA3/Restaurants/Input_US_Restauarants.csv')\n",
    "df_rest.head()"
   ]
  },
  {
   "cell_type": "code",
   "execution_count": 3,
   "metadata": {},
   "outputs": [
    {
     "data": {
      "text/html": [
       "<div>\n",
       "<style scoped>\n",
       "    .dataframe tbody tr th:only-of-type {\n",
       "        vertical-align: middle;\n",
       "    }\n",
       "\n",
       "    .dataframe tbody tr th {\n",
       "        vertical-align: top;\n",
       "    }\n",
       "\n",
       "    .dataframe thead th {\n",
       "        text-align: right;\n",
       "    }\n",
       "</style>\n",
       "<table border=\"1\" class=\"dataframe\">\n",
       "  <thead>\n",
       "    <tr style=\"text-align: right;\">\n",
       "      <th></th>\n",
       "      <th>Name</th>\n",
       "      <th>Street Address</th>\n",
       "      <th>Type</th>\n",
       "      <th>Reviews</th>\n",
       "      <th>No of Reviews</th>\n",
       "      <th>Comments</th>\n",
       "      <th>Contact Number</th>\n",
       "      <th>Trip_advisor Url</th>\n",
       "      <th>Menu</th>\n",
       "      <th>City</th>\n",
       "      <th>State</th>\n",
       "    </tr>\n",
       "  </thead>\n",
       "  <tbody>\n",
       "    <tr>\n",
       "      <th>0</th>\n",
       "      <td>135 Prime</td>\n",
       "      <td>1201 Hewitt Dr</td>\n",
       "      <td>American, Steakhouse, Seafood</td>\n",
       "      <td>4.5</td>\n",
       "      <td>200</td>\n",
       "      <td>GPS could not get us properly vectored.  When ...</td>\n",
       "      <td>+1 254-666-3100</td>\n",
       "      <td>https://www.tripadvisor.com//Restaurant_Review...</td>\n",
       "      <td>NaN</td>\n",
       "      <td>Waco</td>\n",
       "      <td>TX</td>\n",
       "    </tr>\n",
       "    <tr>\n",
       "      <th>1</th>\n",
       "      <td>144 Restaurant and Lounge</td>\n",
       "      <td>14402 135th Ave</td>\n",
       "      <td>American, Bar, Vegetarian Friendly</td>\n",
       "      <td>4</td>\n",
       "      <td>241</td>\n",
       "      <td>On our way to Italy and staying at the Hilton ...</td>\n",
       "      <td>+1 718-659-0200</td>\n",
       "      <td>https://www.tripadvisor.com//Restaurant_Review...</td>\n",
       "      <td>NaN</td>\n",
       "      <td>Jamaica</td>\n",
       "      <td>NY</td>\n",
       "    </tr>\n",
       "  </tbody>\n",
       "</table>\n",
       "</div>"
      ],
      "text/plain": [
       "                        Name   Street Address  \\\n",
       "0                  135 Prime   1201 Hewitt Dr   \n",
       "1  144 Restaurant and Lounge  14402 135th Ave   \n",
       "\n",
       "                                  Type Reviews No of Reviews  \\\n",
       "0        American, Steakhouse, Seafood    4.5            200   \n",
       "1   American, Bar, Vegetarian Friendly      4            241   \n",
       "\n",
       "                                            Comments   Contact Number  \\\n",
       "0  GPS could not get us properly vectored.  When ...  +1 254-666-3100   \n",
       "1  On our way to Italy and staying at the Hilton ...  +1 718-659-0200   \n",
       "\n",
       "                                    Trip_advisor Url Menu     City State  \n",
       "0  https://www.tripadvisor.com//Restaurant_Review...  NaN     Waco    TX  \n",
       "1  https://www.tripadvisor.com//Restaurant_Review...  NaN  Jamaica    NY  "
      ]
     },
     "execution_count": 3,
     "metadata": {},
     "output_type": "execute_result"
    }
   ],
   "source": [
    "# data cleaning for restaurant data\n",
    "df_rest['City'] = df_rest.apply(lambda row: row['Location'].split(',')[0],axis=1)\n",
    "df_rest['State'] = df_rest.apply(lambda row: row['Location'].split(',')[1],axis=1)\n",
    "df_rest['Reviews'] = df_rest.apply(lambda row: row['Reviews'].split('of')[0],axis=1)\n",
    "df_rest['No of Reviews'] = df_rest.apply(lambda row: row['No of Reviews'].split(' ')[0],axis=1)\n",
    "df_rest = df_rest.drop('Location', axis=1)\n",
    "df_rest['Reviews'] = df_rest['Reviews'].replace('No review',0.0)\n",
    "df_rest.head(2)"
   ]
  },
  {
   "cell_type": "code",
   "execution_count": 4,
   "metadata": {},
   "outputs": [
    {
     "name": "stdout",
     "output_type": "stream",
     "text": [
      "<class 'pandas.core.frame.DataFrame'>\n",
      "RangeIndex: 2890 entries, 0 to 2889\n",
      "Data columns (total 11 columns):\n",
      " #   Column            Non-Null Count  Dtype \n",
      "---  ------            --------------  ----- \n",
      " 0   Name              2890 non-null   object\n",
      " 1   Street Address    2890 non-null   object\n",
      " 2   Type              2879 non-null   object\n",
      " 3   Reviews           2890 non-null   object\n",
      " 4   No of Reviews     2890 non-null   object\n",
      " 5   Comments          2290 non-null   object\n",
      " 6   Contact Number    2890 non-null   object\n",
      " 7   Trip_advisor Url  2890 non-null   object\n",
      " 8   Menu              759 non-null    object\n",
      " 9   City              2890 non-null   object\n",
      " 10  State             2890 non-null   object\n",
      "dtypes: object(11)\n",
      "memory usage: 248.5+ KB\n"
     ]
    }
   ],
   "source": [
    "# basic information for dataframe\n",
    "df_rest.info()"
   ]
  },
  {
   "cell_type": "code",
   "execution_count": 5,
   "metadata": {},
   "outputs": [],
   "source": [
    "# Treating the reviews column for consistency\n",
    "df_rest['No of Reviews'] = df_rest['No of Reviews'].str.replace(',','')\n",
    "df_rest['No of Reviews'] = df_rest['No of Reviews'].replace('Undefined Number',0)\n",
    "df_rest['No of Reviews'] = df_rest['No of Reviews'].replace('Undefined',0)\n",
    "df_rest['No of Reviews'] = df_rest['No of Reviews'].replace(np.nan, 0)"
   ]
  },
  {
   "cell_type": "code",
   "execution_count": 6,
   "metadata": {},
   "outputs": [],
   "source": [
    "# Treating comment field for consistency\n",
    "df_rest['Comments'] = df_rest['Comments'].fillna('No comments')"
   ]
  },
  {
   "cell_type": "code",
   "execution_count": 7,
   "metadata": {},
   "outputs": [],
   "source": [
    "# Treating menu field for consistency\n",
    "df_rest['Menu'] = df_rest['Menu'].fillna('Check The Website for a Menu')"
   ]
  },
  {
   "cell_type": "code",
   "execution_count": 8,
   "metadata": {},
   "outputs": [],
   "source": [
    "# dictionary for data type modifications\n",
    "dict_dtype = {\n",
    "    'Name':str,\n",
    "    'Street Address':str,\n",
    "    'Type':str,\n",
    "    'Reviews':float,\n",
    "    'No of Reviews':int,\n",
    "    'Comments':str,\n",
    "    'Contact Number':str,\n",
    "    'Trip_advisor Url':str,\n",
    "    'Menu':str,\n",
    "    'City':str,\n",
    "    'State':str\n",
    "}\n",
    "\n",
    "# iterating the dictionary keys to change datatypes as per the required format\n",
    "for key in dict_dtype.keys():\n",
    "    df_rest[key] = df_rest[key].astype(dict_dtype[key])"
   ]
  },
  {
   "cell_type": "code",
   "execution_count": 9,
   "metadata": {},
   "outputs": [
    {
     "data": {
      "text/plain": [
       "Name                 object\n",
       "Street Address       object\n",
       "Type                 object\n",
       "Reviews             float64\n",
       "No of Reviews         int32\n",
       "Comments             object\n",
       "Contact Number       object\n",
       "Trip_advisor Url     object\n",
       "Menu                 object\n",
       "City                 object\n",
       "State                object\n",
       "dtype: object"
      ]
     },
     "execution_count": 9,
     "metadata": {},
     "output_type": "execute_result"
    }
   ],
   "source": [
    "# verifying datatypes for each column after transformation\n",
    "df_rest.dtypes"
   ]
  },
  {
   "cell_type": "code",
   "execution_count": 10,
   "metadata": {},
   "outputs": [
    {
     "data": {
      "text/html": [
       "<div>\n",
       "<style scoped>\n",
       "    .dataframe tbody tr th:only-of-type {\n",
       "        vertical-align: middle;\n",
       "    }\n",
       "\n",
       "    .dataframe tbody tr th {\n",
       "        vertical-align: top;\n",
       "    }\n",
       "\n",
       "    .dataframe thead th {\n",
       "        text-align: right;\n",
       "    }\n",
       "</style>\n",
       "<table border=\"1\" class=\"dataframe\">\n",
       "  <thead>\n",
       "    <tr style=\"text-align: right;\">\n",
       "      <th></th>\n",
       "      <th>Reviews</th>\n",
       "      <th>No of Reviews</th>\n",
       "    </tr>\n",
       "  </thead>\n",
       "  <tbody>\n",
       "    <tr>\n",
       "      <th>count</th>\n",
       "      <td>2890.000000</td>\n",
       "      <td>2890.000000</td>\n",
       "    </tr>\n",
       "    <tr>\n",
       "      <th>mean</th>\n",
       "      <td>4.323356</td>\n",
       "      <td>301.064360</td>\n",
       "    </tr>\n",
       "    <tr>\n",
       "      <th>std</th>\n",
       "      <td>0.284340</td>\n",
       "      <td>403.944862</td>\n",
       "    </tr>\n",
       "    <tr>\n",
       "      <th>min</th>\n",
       "      <td>0.000000</td>\n",
       "      <td>0.000000</td>\n",
       "    </tr>\n",
       "    <tr>\n",
       "      <th>25%</th>\n",
       "      <td>4.000000</td>\n",
       "      <td>90.000000</td>\n",
       "    </tr>\n",
       "    <tr>\n",
       "      <th>50%</th>\n",
       "      <td>4.500000</td>\n",
       "      <td>188.000000</td>\n",
       "    </tr>\n",
       "    <tr>\n",
       "      <th>75%</th>\n",
       "      <td>4.500000</td>\n",
       "      <td>343.000000</td>\n",
       "    </tr>\n",
       "    <tr>\n",
       "      <th>max</th>\n",
       "      <td>5.000000</td>\n",
       "      <td>5448.000000</td>\n",
       "    </tr>\n",
       "  </tbody>\n",
       "</table>\n",
       "</div>"
      ],
      "text/plain": [
       "           Reviews  No of Reviews\n",
       "count  2890.000000    2890.000000\n",
       "mean      4.323356     301.064360\n",
       "std       0.284340     403.944862\n",
       "min       0.000000       0.000000\n",
       "25%       4.000000      90.000000\n",
       "50%       4.500000     188.000000\n",
       "75%       4.500000     343.000000\n",
       "max       5.000000    5448.000000"
      ]
     },
     "execution_count": 10,
     "metadata": {},
     "output_type": "execute_result"
    }
   ],
   "source": [
    "# describe the data to understand the distriution\n",
    "df_rest.describe()"
   ]
  },
  {
   "cell_type": "code",
   "execution_count": 11,
   "metadata": {},
   "outputs": [
    {
     "name": "stdout",
     "output_type": "stream",
     "text": [
      "<class 'pandas.core.frame.DataFrame'>\n",
      "RangeIndex: 2890 entries, 0 to 2889\n",
      "Data columns (total 11 columns):\n",
      " #   Column            Non-Null Count  Dtype  \n",
      "---  ------            --------------  -----  \n",
      " 0   Name              2890 non-null   object \n",
      " 1   Street Address    2890 non-null   object \n",
      " 2   Type              2890 non-null   object \n",
      " 3   Reviews           2890 non-null   float64\n",
      " 4   No of Reviews     2890 non-null   int32  \n",
      " 5   Comments          2890 non-null   object \n",
      " 6   Contact Number    2890 non-null   object \n",
      " 7   Trip_advisor Url  2890 non-null   object \n",
      " 8   Menu              2890 non-null   object \n",
      " 9   City              2890 non-null   object \n",
      " 10  State             2890 non-null   object \n",
      "dtypes: float64(1), int32(1), object(9)\n",
      "memory usage: 237.2+ KB\n"
     ]
    }
   ],
   "source": [
    "# checking nulls in data\n",
    "df_rest.info()"
   ]
  },
  {
   "cell_type": "code",
   "execution_count": 12,
   "metadata": {},
   "outputs": [
    {
     "data": {
      "image/png": "[encoded data removed]",
      "text/plain": [
       "<Figure size 432x288 with 1 Axes>"
      ]
     },
     "metadata": {
      "needs_background": "light"
     },
     "output_type": "display_data"
    }
   ],
   "source": [
    "# box plot for ratings in data\n",
    "sns.boxplot(y=\"Reviews\", data=df_rest);"
   ]
  },
  {
   "cell_type": "code",
   "execution_count": 14,
   "metadata": {},
   "outputs": [
    {
     "data": {
      "text/plain": [
       "Text(0.5, 1.0, 'Restaurants Count Percentage by City in USA')"
      ]
     },
     "execution_count": 14,
     "metadata": {},
     "output_type": "execute_result"
    },
    {
     "data": {
      "image/png": "[encoded data removed]",
      "text/plain": [
       "<Figure size 360x648 with 1 Axes>"
      ]
     },
     "metadata": {},
     "output_type": "display_data"
    }
   ],
   "source": [
    "# Get restaurants count for each city\n",
    "city_group = df_rest.groupby(\"City\").count()\n",
    "# Reset index\n",
    "city_group = city_group.reset_index()\n",
    "# Create new dataframe for city name and restaurant count\n",
    "city_group = city_group[[\"City\", \"Name\"]]\n",
    "# Rename columns\n",
    "city_group.rename(columns={\"Name\": \"Restaurants Count\"}, inplace=True)\n",
    "restaurants_by_city = city_group.sort_values(by=['Restaurants Count'], ascending=False).iloc[:15,:]\n",
    "\n",
    "# Create pie chart for hotel count by city\n",
    "restaurants_count = restaurants_by_city[\"Restaurants Count\"]\n",
    "colors = ['#4F6272', '#B7C3F3', '#DD7596', '#8EB897','#87CEFA']\n",
    "city_labels = restaurants_by_city[\"City\"]\n",
    "plt.figure(figsize=(5,9))\n",
    "plt.pie(restaurants_count, labels=city_labels, wedgeprops = { 'linewidth' : 1, 'edgecolor' : 'white' }, colors=colors, startangle=115, autopct=\"%1.1f%%\")\n",
    "plt.title(\"Restaurants Count Percentage by City in USA\")"
   ]
  },
  {
   "cell_type": "code",
   "execution_count": 93,
   "metadata": {},
   "outputs": [],
   "source": [
    "# writing the output file\n",
    "df_rest.to_csv(r'/Users/dipikam/Desktop/Output_US_Restaurants.csv')"
   ]
  }
 ],
 "metadata": {
  "kernelspec": {
   "display_name": "Python 3",
   "language": "python",
   "name": "python3"
  },
  "language_info": {
   "codemirror_mode": {
    "name": "ipython",
    "version": 3
   },
   "file_extension": ".py",
   "mimetype": "text/x-python",
   "name": "python",
   "nbconvert_exporter": "python",
   "pygments_lexer": "ipython3",
   "version": "3.8.8"
  },
  "vscode": {
   "interpreter": {
    "hash": "31f2aee4e71d21fbe5cf8b01ff0e069b9275f58929596ceb00d14d90e3e16cd6"
   }
  }
 },
 "nbformat": 4,
 "nbformat_minor": 2
}
